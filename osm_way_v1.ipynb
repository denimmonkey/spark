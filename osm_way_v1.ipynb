{
 "cells": [
  {
   "cell_type": "markdown",
   "metadata": {},
   "source": [
    "Analyzing Open Street Maps data with apache spark\n",
    "\n",
    "analyze ways in Hungary's OSM data\n",
    "https://labs.mapbox.com/mapping/osm-data-model/#ways"
   ]
  },
  {
   "cell_type": "code",
   "execution_count": 224,
   "metadata": {},
   "outputs": [],
   "source": [
    "import findspark\n",
    "findspark.init()\n",
    "from pyspark.sql.types import *\n",
    "from pyspark.sql.functions import *"
   ]
  },
  {
   "cell_type": "code",
   "execution_count": 225,
   "metadata": {},
   "outputs": [],
   "source": [
    "from pyspark.sql import SparkSession\n",
    "spark = SparkSession.builder.getOrCreate()"
   ]
  },
  {
   "cell_type": "markdown",
   "metadata": {},
   "source": [
    "converted osm pbf to parquet files for better use with spark\n",
    "spark unable to auto determine the correct data type from the converted parquet files so defining schema"
   ]
  },
  {
   "cell_type": "code",
   "execution_count": 226,
   "metadata": {},
   "outputs": [],
   "source": [
    "way_schema = StructType([StructField(\"id\",LongType(),True),\n",
    "    StructField(\"version\",IntegerType(),True),\n",
    "    StructField(\"timestamp\",LongType(),True),\n",
    "    StructField(\"changeset\",LongType(),True),\n",
    "    StructField(\"uid\",IntegerType(),True),\n",
    "    StructField(\"user_sid\",StringType(),True),\n",
    "    StructField(\"tags\",ArrayType(StructType([StructField(\"key\",StringType(),True),StructField(\"value\",StringType(),True)]),True),True),\n",
    "    StructField(\"nodes\",ArrayType(StructType([StructField(\"index\",IntegerType(),True),StructField(\"nodeId\",LongType(),True)]),True),True)])"
   ]
  },
  {
   "cell_type": "code",
   "execution_count": 227,
   "metadata": {},
   "outputs": [],
   "source": [
    "# generalize the path \n",
    "way_df = spark.read.schema(way_schema).parquet(\"/Users/mayankbaid/Downloads/hungary_osm/20190430-hungary.osm.pbf.way.parquet\")"
   ]
  },
  {
   "cell_type": "code",
   "execution_count": 228,
   "metadata": {},
   "outputs": [
    {
     "name": "stdout",
     "output_type": "stream",
     "text": [
      "root\n",
      " |-- id: long (nullable = true)\n",
      " |-- version: integer (nullable = true)\n",
      " |-- timestamp: long (nullable = true)\n",
      " |-- changeset: long (nullable = true)\n",
      " |-- uid: integer (nullable = true)\n",
      " |-- user_sid: string (nullable = true)\n",
      " |-- tags: array (nullable = true)\n",
      " |    |-- element: struct (containsNull = true)\n",
      " |    |    |-- key: string (nullable = true)\n",
      " |    |    |-- value: string (nullable = true)\n",
      " |-- nodes: array (nullable = true)\n",
      " |    |-- element: struct (containsNull = true)\n",
      " |    |    |-- index: integer (nullable = true)\n",
      " |    |    |-- nodeId: long (nullable = true)\n",
      "\n"
     ]
    }
   ],
   "source": [
    "way_df.printSchema()\n",
    "# register temporary table\n",
    "way_df.createOrReplaceTempView(\"ways\")"
   ]
  },
  {
   "cell_type": "code",
   "execution_count": 229,
   "metadata": {},
   "outputs": [
    {
     "name": "stdout",
     "output_type": "stream",
     "text": [
      "+---------------------------------------------------+\n",
      "|tags                                               |\n",
      "+---------------------------------------------------+\n",
      "|[[highway, residential], [name, Honvéd utca]]      |\n",
      "|[[highway, residential], [name, Szent István utca]]|\n",
      "+---------------------------------------------------+\n",
      "only showing top 2 rows\n",
      "\n"
     ]
    }
   ],
   "source": [
    "way_df.select(\"tags\").show(2,truncate=False)"
   ]
  },
  {
   "cell_type": "code",
   "execution_count": 230,
   "metadata": {},
   "outputs": [],
   "source": [
    "way_tags = way_df.select(\"id\",explode(\"tags\").alias(\"ex_tags\")) "
   ]
  },
  {
   "cell_type": "code",
   "execution_count": 231,
   "metadata": {},
   "outputs": [
    {
     "name": "stdout",
     "output_type": "stream",
     "text": [
      "root\n",
      " |-- id: long (nullable = true)\n",
      " |-- ex_tags: struct (nullable = true)\n",
      " |    |-- key: string (nullable = true)\n",
      " |    |-- value: string (nullable = true)\n",
      "\n"
     ]
    }
   ],
   "source": [
    "way_tags.printSchema()"
   ]
  },
  {
   "cell_type": "code",
   "execution_count": 232,
   "metadata": {},
   "outputs": [],
   "source": [
    "df_highways = way_tags.filter(\"ex_tags.key == 'highway'\")"
   ]
  },
  {
   "cell_type": "code",
   "execution_count": 233,
   "metadata": {},
   "outputs": [
    {
     "name": "stdout",
     "output_type": "stream",
     "text": [
      "+----------------------+------+\n",
      "|value                 |count |\n",
      "+----------------------+------+\n",
      "|track                 |234744|\n",
      "|residential           |166677|\n",
      "|service               |103466|\n",
      "|footway               |58941 |\n",
      "|path                  |42009 |\n",
      "|secondary             |26259 |\n",
      "|primary               |20832 |\n",
      "|unclassified          |19261 |\n",
      "|tertiary              |17925 |\n",
      "|steps                 |7840  |\n",
      "|cycleway              |7233  |\n",
      "|motorway              |3397  |\n",
      "|living_street         |3080  |\n",
      "|pedestrian            |2686  |\n",
      "|platform              |2232  |\n",
      "|motorway_link         |2093  |\n",
      "|trunk                 |1176  |\n",
      "|primary_link          |1168  |\n",
      "|construction          |1016  |\n",
      "|trunk_link            |869   |\n",
      "|secondary_link        |672   |\n",
      "|proposed              |535   |\n",
      "|tertiary_link         |488   |\n",
      "|road                  |423   |\n",
      "|raceway               |156   |\n",
      "|corridor              |122   |\n",
      "|rest_area             |87    |\n",
      "|bridleway             |83    |\n",
      "|abandoned             |66    |\n",
      "|yes                   |53    |\n",
      "|services              |52    |\n",
      "|bus_stop              |47    |\n",
      "|no                    |9     |\n",
      "|traffic_signals       |9     |\n",
      "|traffic_island        |4     |\n",
      "|disused               |2     |\n",
      "|via_ferrata           |1     |\n",
      "|a                     |1     |\n",
      "|emergency_access_point|1     |\n",
      "|place                 |1     |\n",
      "+----------------------+------+\n",
      "\n"
     ]
    }
   ],
   "source": [
    "# different types of highways\n",
    "df_highways.groupBy(\"ex_tags.value\").count().orderBy(\"count\",ascending=False).show(df_highways.count(),truncate=False)"
   ]
  },
  {
   "cell_type": "code",
   "execution_count": 234,
   "metadata": {},
   "outputs": [
    {
     "name": "stdout",
     "output_type": "stream",
     "text": [
      "+---------+--------------------------+\n",
      "|id       |ex_tags                   |\n",
      "+---------+--------------------------+\n",
      "|520994975|[highway, traffic_signals]|\n",
      "|520994976|[highway, traffic_signals]|\n",
      "|520994977|[highway, traffic_signals]|\n",
      "|520994978|[highway, traffic_signals]|\n",
      "|521002726|[highway, traffic_signals]|\n",
      "|521002727|[highway, traffic_signals]|\n",
      "|521002728|[highway, traffic_signals]|\n",
      "|521002729|[highway, traffic_signals]|\n",
      "|521002730|[highway, traffic_signals]|\n",
      "+---------+--------------------------+\n",
      "\n"
     ]
    }
   ],
   "source": [
    "way_tags.filter((col(\"ex_tags.key\") == 'highway') & (col(\"ex_tags.value\") == 'traffic_signals')).show(truncate=False)"
   ]
  },
  {
   "cell_type": "code",
   "execution_count": 235,
   "metadata": {},
   "outputs": [
    {
     "name": "stdout",
     "output_type": "stream",
     "text": [
      "+---------+-------+-------------+---------+-------+--------+------------------------------------------------------+------------------------------------------------------------------------------------+\n",
      "|id       |version|timestamp    |changeset|uid    |user_sid|tags                                                  |nodes                                                                               |\n",
      "+---------+-------+-------------+---------+-------+--------+------------------------------------------------------+------------------------------------------------------------------------------------+\n",
      "|392337135|1      |1453231966000|36686990 |2100547|hadidoki|[[highway, no], [source, turistautak.hu], [traces, 1]]|[[0, 1373930208], [1, 3955706801], [2, 3955706799], [3, 3955706794], [4, 348240456]]|\n",
      "+---------+-------+-------------+---------+-------+--------+------------------------------------------------------+------------------------------------------------------------------------------------+\n",
      "\n",
      "+---------+-------+-------------+---------+-------+--------+------------------------------------------------------------------------------------------------------------------------------------------------------------------------------------------------+----------------------------------+\n",
      "|id       |version|timestamp    |changeset|uid    |user_sid|tags                                                                                                                                                                                            |nodes                             |\n",
      "+---------+-------+-------------+---------+-------+--------+------------------------------------------------------------------------------------------------------------------------------------------------------------------------------------------------+----------------------------------+\n",
      "|521002730|2      |1516619039000|55651240 |2077889|zsolt d |[[bridge, yes], [bridge:structure, truss], [highway, traffic_signals], [layer, 1], [man_made, surveillance], [material, steel], [street_cabinet, traffic_control], [surveillance:zone, traffic]]|[[0, 5077015657], [1, 5077015656]]|\n",
      "+---------+-------+-------------+---------+-------+--------+------------------------------------------------------------------------------------------------------------------------------------------------------------------------------------------------+----------------------------------+\n",
      "\n"
     ]
    }
   ],
   "source": [
    "# analyzing a few rows where tag[highway] == no; seems like a data quality issue! \n",
    "# absence of highway tag confirms it is not a highways in other cases\n",
    "way_df.filter('id == 392337135').show(truncate=False)\n",
    "way_df.filter('id == 521002730').show(truncate=False)"
   ]
  },
  {
   "cell_type": "code",
   "execution_count": 236,
   "metadata": {},
   "outputs": [
    {
     "name": "stdout",
     "output_type": "stream",
     "text": [
      "+----------------------+------+\n",
      "|highway_type          |count |\n",
      "+----------------------+------+\n",
      "|track                 |234744|\n",
      "|residential           |166677|\n",
      "|service               |103466|\n",
      "|footway               |58941 |\n",
      "|path                  |42009 |\n",
      "|secondary             |26259 |\n",
      "|primary               |20832 |\n",
      "|unclassified          |19261 |\n",
      "|tertiary              |17925 |\n",
      "|steps                 |7840  |\n",
      "|cycleway              |7233  |\n",
      "|motorway              |3397  |\n",
      "|living_street         |3080  |\n",
      "|pedestrian            |2686  |\n",
      "|platform              |2232  |\n",
      "|motorway_link         |2093  |\n",
      "|trunk                 |1176  |\n",
      "|primary_link          |1168  |\n",
      "|construction          |1016  |\n",
      "|trunk_link            |869   |\n",
      "|secondary_link        |672   |\n",
      "|proposed              |535   |\n",
      "|tertiary_link         |488   |\n",
      "|road                  |423   |\n",
      "|raceway               |156   |\n",
      "|corridor              |122   |\n",
      "|rest_area             |87    |\n",
      "|bridleway             |83    |\n",
      "|abandoned             |66    |\n",
      "|yes                   |53    |\n",
      "|services              |52    |\n",
      "|bus_stop              |47    |\n",
      "|traffic_signals       |9     |\n",
      "|no                    |9     |\n",
      "|traffic_island        |4     |\n",
      "|disused               |2     |\n",
      "|via_ferrata           |1     |\n",
      "|a                     |1     |\n",
      "|emergency_access_point|1     |\n",
      "|place                 |1     |\n",
      "+----------------------+------+\n",
      "\n"
     ]
    }
   ],
   "source": [
    "# different highways and their occurences via spark SQL\n",
    "\n",
    "spark.sql(\"\"\"select \n",
    "              w.exp_t.value highway_type, \n",
    "              count(w.exp_t.value) count \n",
    "          from \n",
    "              (select id, explode(tags) exp_t from ways) w  \n",
    "          where \n",
    "              exp_t.key == 'highway' \n",
    "          group by(w.exp_t.value) \n",
    "          order by(count) desc\"\"\").show(df_highways.count(),truncate=False)"
   ]
  },
  {
   "cell_type": "code",
   "execution_count": 281,
   "metadata": {},
   "outputs": [],
   "source": [
    "highways_pandas = df_highways.groupBy(\"ex_tags.value\").count().orderBy(\"count\",ascending=False).toPandas()"
   ]
  },
  {
   "cell_type": "code",
   "execution_count": 295,
   "metadata": {},
   "outputs": [
    {
     "data": {
      "text/plain": [
       "<matplotlib.axes._subplots.AxesSubplot at 0x131e4a860>"
      ]
     },
     "execution_count": 295,
     "metadata": {},
     "output_type": "execute_result"
    },
    {
     "data": {
      "image/png": "[encoded data removed]",
      "text/plain": [
       "<Figure size 1080x216 with 1 Axes>"
      ]
     },
     "metadata": {
      "needs_background": "light"
     },
     "output_type": "display_data"
    }
   ],
   "source": [
    "highways_pandas.plot(x='value', y='count', kind='bar',figsize=(15,3))"
   ]
  },
  {
   "cell_type": "code",
   "execution_count": null,
   "metadata": {},
   "outputs": [],
   "source": [
    "  "
   ]
  }
 ],
 "metadata": {
  "kernelspec": {
   "display_name": "Python 3",
   "language": "python",
   "name": "python3"
  },
  "language_info": {
   "codemirror_mode": {
    "name": "ipython",
    "version": 3
   },
   "file_extension": ".py",
   "mimetype": "text/x-python",
   "name": "python",
   "nbconvert_exporter": "python",
   "pygments_lexer": "ipython3",
   "version": "3.6.8"
  }
 },
 "nbformat": 4,
 "nbformat_minor": 2
}
